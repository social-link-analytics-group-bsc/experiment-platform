{
 "cells": [
  {
   "cell_type": "markdown",
   "id": "b8d9b808-816e-4c44-914d-1214097397aa",
   "metadata": {},
   "source": [
    "# Introduction"
   ]
  },
  {
   "cell_type": "markdown",
   "id": "ff13d4f8-95a5-4336-8028-82a0fd8950f7",
   "metadata": {},
   "source": [
    "This notebook analyse the interaction and the effects the different sociodemographics variables can have on the detection (or absence of detection) of disinformation and their impact on sharing the news."
   ]
  },
  {
   "cell_type": "markdown",
   "id": "04432aaa-759e-4a0d-9c6b-2b919e0bfbce",
   "metadata": {},
   "source": [
    "## Import modules and functions"
   ]
  },
  {
   "cell_type": "markdown",
   "id": "a855d4a2-31e3-466e-883c-35c54d7c524a",
   "metadata": {},
   "source": [
    "### Modules"
   ]
  },
  {
   "cell_type": "code",
   "execution_count": 14,
   "id": "b4fdb901-b55a-40f5-a1fc-804f57c286a7",
   "metadata": {},
   "outputs": [],
   "source": [
    "# Import modules\n",
    "import json\n",
    "import csv\n",
    "import itertools "
   ]
  },
  {
   "cell_type": "code",
   "execution_count": 15,
   "id": "80d27c57-e594-42a0-95e2-103a47d9011b",
   "metadata": {},
   "outputs": [],
   "source": [
    "# Classic analysis imports\n",
    "import numpy as np \n",
    "import pandas as pd \n",
    "import matplotlib as mp\n",
    "import matplotlib.pyplot as plt\n",
    "import matplotlib.dates as mdates\n",
    "import matplotlib.patches as mpatches\n",
    "from matplotlib.lines import Line2D\n",
    "import seaborn as sns"
   ]
  },
  {
   "cell_type": "code",
   "execution_count": 16,
   "id": "18aeb2db-1c76-46d2-97fd-90bc004c07e8",
   "metadata": {},
   "outputs": [],
   "source": [
    "# Stat analysis import \n",
    "from sklearn import preprocessing\n",
    "from sklearn.cluster import KMeans\n",
    "\n",
    "import math\n",
    "\n",
    "import scipy \n",
    "from scipy.stats import chi2_contingency\n",
    "from scipy.stats import chi2\n",
    "\n",
    "import scikit_posthocs as sp\n",
    "\n",
    "import statsmodels.api as sm\n",
    "import statsmodels.formula.api as smf\n",
    "import statsmodels.stats.stattools as stools\n",
    "import statsmodels.stats as stats \n",
    "from statsmodels.graphics.regressionplots import *\n",
    "from statsmodels.formula.api import ols\n",
    "from statsmodels.stats.anova import AnovaRM\n",
    "from statsmodels.stats.anova import anova_lm\n",
    "from statsmodels.stats import multicomp as mc\n",
    "from statsmodels.miscmodels.ordinal_model import OrderedModel\n",
    "\n",
    "import pingouin as pg"
   ]
  },
  {
   "cell_type": "code",
   "execution_count": 17,
   "id": "4e2e496d-317f-4fdb-a594-061a5a06a962",
   "metadata": {},
   "outputs": [],
   "source": [
    "# options for the notebook\n",
    "pd.set_option('display.max_colwidth',1000)\n",
    "plt.style.use('seaborn')\n",
    "sns.set_style('whitegrid')"
   ]
  },
  {
   "cell_type": "markdown",
   "id": "6a174230-dedc-4b72-9e67-ad7533f0cd57",
   "metadata": {},
   "source": [
    "## Data"
   ]
  },
  {
   "cell_type": "markdown",
   "id": "beaac232-7e93-44d0-84c9-586646c5b938",
   "metadata": {},
   "source": [
    "### Loading"
   ]
  },
  {
   "cell_type": "code",
   "execution_count": 18,
   "id": "5e62cc12-75eb-4670-a2bc-d46fa334a7fa",
   "metadata": {},
   "outputs": [],
   "source": [
    "# Setting up the folders \n",
    "data_folder = \"../data/\"\n",
    "analysis_results_folder = \"../results/\"\n",
    "plots_folders = \"../plots\"\n",
    "\n",
    "# Filenames\n",
    "dataset_clean_filename = 'cleaned_dataset_per_subject.csv'\n",
    "\n",
    "dataset_news_details_filename = 'details_news.csv'\n",
    "dataset_news_full_filename = 'cleaned_dataset_per_news.csv'"
   ]
  },
  {
   "cell_type": "code",
   "execution_count": 19,
   "id": "325ad60b-83a5-40dd-8b5d-ba4a2ff88626",
   "metadata": {},
   "outputs": [],
   "source": [
    "# Load answers\n",
    "df_subject_full = pd.read_csv('{}{}'.format(data_folder, dataset_clean_filename))\n",
    "\n",
    "# Load news perspective\n",
    "df_news_full = pd.read_csv('{}{}'.format(data_folder, dataset_news_full_filename))\n",
    "\n",
    "# Load news details\n",
    "df_news_details = pd.read_csv('{}{}'.format(data_folder, dataset_news_details_filename))"
   ]
  },
  {
   "cell_type": "code",
   "execution_count": 20,
   "id": "7de3a67d-8e86-4091-8267-e39efb6d20ce",
   "metadata": {},
   "outputs": [],
   "source": [
    "### Different variables\n",
    "var_justification_wrong = ['tno_aclaracion_desmintiendo',\n",
    "'tno_medio_desconocido',\n",
    "'tno_medio_poco_fiable',\n",
    "'tno_fuentes_desconocidas',\n",
    "'tno_fuentes_no_confiables',\n",
    "'tno_sin_fuentes',\n",
    "'tno_abordaje_no_serio',\n",
    "'tno_no_coherente',\n",
    "'tno_titulo_sensacionalista',\n",
    "'tno_imagen_sensacionalista',\n",
    "'tno_no_concuerda_creencias',\n",
    "'tno_no_alineado_ideologia',\n",
    "'tno_otro']\n",
    "var_justification_right = ['justification_avg_recuerda_leida',\n",
    "'justification_avg_medio_conocido',\n",
    "'justification_avg_medio_fiable',\n",
    "'justification_avg_fuentes_conocidas',\n",
    "'justification_avg_fuentes_confiables',\n",
    "'justification_avg_abordaje_serio',\n",
    "'justification_avg_coherente',\n",
    "'justification_avg_concuerda_creencias',\n",
    "'justification_avg_alineado_ideologia',\n",
    "'justification_avg_otro']\n"
   ]
  },
  {
   "cell_type": "code",
   "execution_count": 42,
   "id": "54acd00e-21c6-4120-9548-a598ad4e7d7b",
   "metadata": {},
   "outputs": [
    {
     "data": {
      "text/html": [
       "<div>\n",
       "<style scoped>\n",
       "    .dataframe tbody tr th:only-of-type {\n",
       "        vertical-align: middle;\n",
       "    }\n",
       "\n",
       "    .dataframe tbody tr th {\n",
       "        vertical-align: top;\n",
       "    }\n",
       "\n",
       "    .dataframe thead th {\n",
       "        text-align: right;\n",
       "    }\n",
       "</style>\n",
       "<table border=\"1\" class=\"dataframe\">\n",
       "  <thead>\n",
       "    <tr style=\"text-align: right;\">\n",
       "      <th></th>\n",
       "      <th>news_title</th>\n",
       "      <th>type_news</th>\n",
       "      <th>topic</th>\n",
       "      <th>variable</th>\n",
       "      <th>value</th>\n",
       "    </tr>\n",
       "  </thead>\n",
       "  <tbody>\n",
       "    <tr>\n",
       "      <th>0</th>\n",
       "      <td>Stefano Montario: las mascarillas incuban el cáncer</td>\n",
       "      <td>fake_news</td>\n",
       "      <td>Science</td>\n",
       "      <td>justification_avg_aclaracion_desmintiendo</td>\n",
       "      <td>0.097561</td>\n",
       "    </tr>\n",
       "    <tr>\n",
       "      <th>1</th>\n",
       "      <td>La OMS alerta sobre el Virus Nipah, que puede ser peor que el Covid-19</td>\n",
       "      <td>fake_news</td>\n",
       "      <td>Politics</td>\n",
       "      <td>justification_avg_aclaracion_desmintiendo</td>\n",
       "      <td>0.075472</td>\n",
       "    </tr>\n",
       "    <tr>\n",
       "      <th>2</th>\n",
       "      <td>Hantavirus. La OMS advierte al mundo del nuevo virus que viene de China</td>\n",
       "      <td>fake_news</td>\n",
       "      <td>Science</td>\n",
       "      <td>justification_avg_aclaracion_desmintiendo</td>\n",
       "      <td>0.046512</td>\n",
       "    </tr>\n",
       "    <tr>\n",
       "      <th>3</th>\n",
       "      <td>Demuestran científicamente la relación causal entre la tecnologia 5G y el COVID-19</td>\n",
       "      <td>fake_news</td>\n",
       "      <td>Technology</td>\n",
       "      <td>justification_avg_aclaracion_desmintiendo</td>\n",
       "      <td>0.115385</td>\n",
       "    </tr>\n",
       "    <tr>\n",
       "      <th>4</th>\n",
       "      <td>El Ministerio del Interior alemán define al coronavirus como \"falsa alarma global\" en un informe filtrado a la prensa</td>\n",
       "      <td>fake_news</td>\n",
       "      <td>Politics</td>\n",
       "      <td>justification_avg_aclaracion_desmintiendo</td>\n",
       "      <td>0.033898</td>\n",
       "    </tr>\n",
       "    <tr>\n",
       "      <th>...</th>\n",
       "      <td>...</td>\n",
       "      <td>...</td>\n",
       "      <td>...</td>\n",
       "      <td>...</td>\n",
       "      <td>...</td>\n",
       "    </tr>\n",
       "    <tr>\n",
       "      <th>515</th>\n",
       "      <td>El coronavirus solo se desactiva por completo a más de 90 grados</td>\n",
       "      <td>true_news</td>\n",
       "      <td>Science</td>\n",
       "      <td>action_avg_no_accion</td>\n",
       "      <td>0.372340</td>\n",
       "    </tr>\n",
       "    <tr>\n",
       "      <th>516</th>\n",
       "      <td>El uso de la mascarilla agrava el aislamiento de las personas sordas</td>\n",
       "      <td>true_news</td>\n",
       "      <td>Science</td>\n",
       "      <td>action_avg_no_accion</td>\n",
       "      <td>0.313953</td>\n",
       "    </tr>\n",
       "    <tr>\n",
       "      <th>517</th>\n",
       "      <td>El CSIC busca una vacuna para el Covid-19 a partir del virus que erradicó la viruela</td>\n",
       "      <td>true_news</td>\n",
       "      <td>Science</td>\n",
       "      <td>action_avg_no_accion</td>\n",
       "      <td>0.512500</td>\n",
       "    </tr>\n",
       "    <tr>\n",
       "      <th>518</th>\n",
       "      <td>La Junta iniciará el lunes el reparto de menús para menores en riesgo de exclusión en Córdoba</td>\n",
       "      <td>true_news</td>\n",
       "      <td>Politics</td>\n",
       "      <td>action_avg_no_accion</td>\n",
       "      <td>0.533333</td>\n",
       "    </tr>\n",
       "    <tr>\n",
       "      <th>519</th>\n",
       "      <td>Sanidad estudia adelantar este año la vacuna de la gripe</td>\n",
       "      <td>true_news</td>\n",
       "      <td>Politics</td>\n",
       "      <td>action_avg_no_accion</td>\n",
       "      <td>0.439024</td>\n",
       "    </tr>\n",
       "  </tbody>\n",
       "</table>\n",
       "<p>520 rows × 5 columns</p>\n",
       "</div>"
      ],
      "text/plain": [
       "                                                                                                                news_title  \\\n",
       "0                                                                      Stefano Montario: las mascarillas incuban el cáncer   \n",
       "1                                                   La OMS alerta sobre el Virus Nipah, que puede ser peor que el Covid-19   \n",
       "2                                                  Hantavirus. La OMS advierte al mundo del nuevo virus que viene de China   \n",
       "3                                       Demuestran científicamente la relación causal entre la tecnologia 5G y el COVID-19   \n",
       "4    El Ministerio del Interior alemán define al coronavirus como \"falsa alarma global\" en un informe filtrado a la prensa   \n",
       "..                                                                                                                     ...   \n",
       "515                                                       El coronavirus solo se desactiva por completo a más de 90 grados   \n",
       "516                                                   El uso de la mascarilla agrava el aislamiento de las personas sordas   \n",
       "517                                   El CSIC busca una vacuna para el Covid-19 a partir del virus que erradicó la viruela   \n",
       "518                          La Junta iniciará el lunes el reparto de menús para menores en riesgo de exclusión en Córdoba   \n",
       "519                                                               Sanidad estudia adelantar este año la vacuna de la gripe   \n",
       "\n",
       "     type_news        topic                                   variable  \\\n",
       "0    fake_news     Science   justification_avg_aclaracion_desmintiendo   \n",
       "1    fake_news    Politics   justification_avg_aclaracion_desmintiendo   \n",
       "2    fake_news     Science   justification_avg_aclaracion_desmintiendo   \n",
       "3    fake_news  Technology   justification_avg_aclaracion_desmintiendo   \n",
       "4    fake_news    Politics   justification_avg_aclaracion_desmintiendo   \n",
       "..         ...          ...                                        ...   \n",
       "515  true_news     Science                        action_avg_no_accion   \n",
       "516  true_news     Science                        action_avg_no_accion   \n",
       "517  true_news     Science                        action_avg_no_accion   \n",
       "518  true_news    Politics                        action_avg_no_accion   \n",
       "519  true_news    Politics                        action_avg_no_accion   \n",
       "\n",
       "        value  \n",
       "0    0.097561  \n",
       "1    0.075472  \n",
       "2    0.046512  \n",
       "3    0.115385  \n",
       "4    0.033898  \n",
       "..        ...  \n",
       "515  0.372340  \n",
       "516  0.313953  \n",
       "517  0.512500  \n",
       "518  0.533333  \n",
       "519  0.439024  \n",
       "\n",
       "[520 rows x 5 columns]"
      ]
     },
     "execution_count": 42,
     "metadata": {},
     "output_type": "execute_result"
    }
   ],
   "source": [
    "df_new_to_plot = pd.melt(df_news_details, id_vars= ['news_title', 'type_news', 'topic'])\n",
    "df_new_to_plot"
   ]
  },
  {
   "cell_type": "code",
   "execution_count": 40,
   "id": "da879ea2-7227-4299-92e4-1e621ba0ea4c",
   "metadata": {},
   "outputs": [
    {
     "data": {
      "image/png": "[encoded data removed]",
      "text/plain": [
       "<Figure size 1080x1080 with 1 Axes>"
      ]
     },
     "metadata": {},
     "output_type": "display_data"
    }
   ],
   "source": [
    "df_new_to_plot['type_metric'] = np.where(df_new_to_plot['variable'].isin(var_justification_right), 'justification', 'action')\n",
    "fig = plt.figure(figsize=(15,15))\n",
    "fig.suptitle('Justification for considering the news as True', size=18)\n",
    "ax = sns.boxplot(y=\"variable\", x=\"value\",\n",
    "                hue=\"type_news\",\n",
    "\n",
    "                data=df_new_to_plot[df_new_to_plot['type_metric'] == 'justification'],\n",
    "                )"
   ]
  },
  {
   "cell_type": "code",
   "execution_count": 41,
   "id": "99b87527-8dec-45c1-a991-0d4089610603",
   "metadata": {},
   "outputs": [
    {
     "ename": "ValueError",
     "evalue": "min() arg is an empty sequence",
     "output_type": "error",
     "traceback": [
      "\u001b[0;31m-----------------------------------------------------------------------\u001b[0m",
      "\u001b[0;31mValueError\u001b[0m                            Traceback (most recent call last)",
      "\u001b[0;32m<ipython-input-41-4f4f1ef59e53>\u001b[0m in \u001b[0;36m<module>\u001b[0;34m\u001b[0m\n\u001b[1;32m      2\u001b[0m \u001b[0mfig\u001b[0m \u001b[0;34m=\u001b[0m \u001b[0mplt\u001b[0m\u001b[0;34m.\u001b[0m\u001b[0mfigure\u001b[0m\u001b[0;34m(\u001b[0m\u001b[0mfigsize\u001b[0m\u001b[0;34m=\u001b[0m\u001b[0;34m(\u001b[0m\u001b[0;36m15\u001b[0m\u001b[0;34m,\u001b[0m\u001b[0;36m15\u001b[0m\u001b[0;34m)\u001b[0m\u001b[0;34m)\u001b[0m\u001b[0;34m\u001b[0m\u001b[0;34m\u001b[0m\u001b[0m\n\u001b[1;32m      3\u001b[0m \u001b[0mfig\u001b[0m\u001b[0;34m.\u001b[0m\u001b[0msuptitle\u001b[0m\u001b[0;34m(\u001b[0m\u001b[0;34m'Justification for considering the news as Fake'\u001b[0m\u001b[0;34m,\u001b[0m \u001b[0msize\u001b[0m\u001b[0;34m=\u001b[0m\u001b[0;36m18\u001b[0m\u001b[0;34m)\u001b[0m\u001b[0;34m\u001b[0m\u001b[0;34m\u001b[0m\u001b[0m\n\u001b[0;32m----> 4\u001b[0;31m ax = sns.boxplot(y=\"variable\", x=\"value\",\n\u001b[0m\u001b[1;32m      5\u001b[0m                 \u001b[0mhue\u001b[0m\u001b[0;34m=\u001b[0m\u001b[0;34m\"type_news\"\u001b[0m\u001b[0;34m,\u001b[0m\u001b[0;34m\u001b[0m\u001b[0;34m\u001b[0m\u001b[0m\n\u001b[1;32m      6\u001b[0m \u001b[0;34m\u001b[0m\u001b[0m\n",
      "\u001b[0;32m~/.local/lib/python3.9/site-packages/seaborn/_decorators.py\u001b[0m in \u001b[0;36minner_f\u001b[0;34m(*args, **kwargs)\u001b[0m\n\u001b[1;32m     44\u001b[0m             )\n\u001b[1;32m     45\u001b[0m         \u001b[0mkwargs\u001b[0m\u001b[0;34m.\u001b[0m\u001b[0mupdate\u001b[0m\u001b[0;34m(\u001b[0m\u001b[0;34m{\u001b[0m\u001b[0mk\u001b[0m\u001b[0;34m:\u001b[0m \u001b[0marg\u001b[0m \u001b[0;32mfor\u001b[0m \u001b[0mk\u001b[0m\u001b[0;34m,\u001b[0m \u001b[0marg\u001b[0m \u001b[0;32min\u001b[0m \u001b[0mzip\u001b[0m\u001b[0;34m(\u001b[0m\u001b[0msig\u001b[0m\u001b[0;34m.\u001b[0m\u001b[0mparameters\u001b[0m\u001b[0;34m,\u001b[0m \u001b[0margs\u001b[0m\u001b[0;34m)\u001b[0m\u001b[0;34m}\u001b[0m\u001b[0;34m)\u001b[0m\u001b[0;34m\u001b[0m\u001b[0;34m\u001b[0m\u001b[0m\n\u001b[0;32m---> 46\u001b[0;31m         \u001b[0;32mreturn\u001b[0m \u001b[0mf\u001b[0m\u001b[0;34m(\u001b[0m\u001b[0;34m**\u001b[0m\u001b[0mkwargs\u001b[0m\u001b[0;34m)\u001b[0m\u001b[0;34m\u001b[0m\u001b[0;34m\u001b[0m\u001b[0m\n\u001b[0m\u001b[1;32m     47\u001b[0m     \u001b[0;32mreturn\u001b[0m \u001b[0minner_f\u001b[0m\u001b[0;34m\u001b[0m\u001b[0;34m\u001b[0m\u001b[0m\n\u001b[1;32m     48\u001b[0m \u001b[0;34m\u001b[0m\u001b[0m\n",
      "\u001b[0;32m~/.local/lib/python3.9/site-packages/seaborn/categorical.py\u001b[0m in \u001b[0;36mboxplot\u001b[0;34m(x, y, hue, data, order, hue_order, orient, color, palette, saturation, width, dodge, fliersize, linewidth, whis, ax, **kwargs)\u001b[0m\n\u001b[1;32m   2238\u001b[0m ):\n\u001b[1;32m   2239\u001b[0m \u001b[0;34m\u001b[0m\u001b[0m\n\u001b[0;32m-> 2240\u001b[0;31m     plotter = _BoxPlotter(x, y, hue, data, order, hue_order,\n\u001b[0m\u001b[1;32m   2241\u001b[0m                           \u001b[0morient\u001b[0m\u001b[0;34m,\u001b[0m \u001b[0mcolor\u001b[0m\u001b[0;34m,\u001b[0m \u001b[0mpalette\u001b[0m\u001b[0;34m,\u001b[0m \u001b[0msaturation\u001b[0m\u001b[0;34m,\u001b[0m\u001b[0;34m\u001b[0m\u001b[0;34m\u001b[0m\u001b[0m\n\u001b[1;32m   2242\u001b[0m                           width, dodge, fliersize, linewidth)\n",
      "\u001b[0;32m~/.local/lib/python3.9/site-packages/seaborn/categorical.py\u001b[0m in \u001b[0;36m__init__\u001b[0;34m(self, x, y, hue, data, order, hue_order, orient, color, palette, saturation, width, dodge, fliersize, linewidth)\u001b[0m\n\u001b[1;32m    405\u001b[0m \u001b[0;34m\u001b[0m\u001b[0m\n\u001b[1;32m    406\u001b[0m         \u001b[0mself\u001b[0m\u001b[0;34m.\u001b[0m\u001b[0mestablish_variables\u001b[0m\u001b[0;34m(\u001b[0m\u001b[0mx\u001b[0m\u001b[0;34m,\u001b[0m \u001b[0my\u001b[0m\u001b[0;34m,\u001b[0m \u001b[0mhue\u001b[0m\u001b[0;34m,\u001b[0m \u001b[0mdata\u001b[0m\u001b[0;34m,\u001b[0m \u001b[0morient\u001b[0m\u001b[0;34m,\u001b[0m \u001b[0morder\u001b[0m\u001b[0;34m,\u001b[0m \u001b[0mhue_order\u001b[0m\u001b[0;34m)\u001b[0m\u001b[0;34m\u001b[0m\u001b[0;34m\u001b[0m\u001b[0m\n\u001b[0;32m--> 407\u001b[0;31m         \u001b[0mself\u001b[0m\u001b[0;34m.\u001b[0m\u001b[0mestablish_colors\u001b[0m\u001b[0;34m(\u001b[0m\u001b[0mcolor\u001b[0m\u001b[0;34m,\u001b[0m \u001b[0mpalette\u001b[0m\u001b[0;34m,\u001b[0m \u001b[0msaturation\u001b[0m\u001b[0;34m)\u001b[0m\u001b[0;34m\u001b[0m\u001b[0;34m\u001b[0m\u001b[0m\n\u001b[0m\u001b[1;32m    408\u001b[0m \u001b[0;34m\u001b[0m\u001b[0m\n\u001b[1;32m    409\u001b[0m         \u001b[0mself\u001b[0m\u001b[0;34m.\u001b[0m\u001b[0mdodge\u001b[0m \u001b[0;34m=\u001b[0m \u001b[0mdodge\u001b[0m\u001b[0;34m\u001b[0m\u001b[0;34m\u001b[0m\u001b[0m\n",
      "\u001b[0;32m~/.local/lib/python3.9/site-packages/seaborn/categorical.py\u001b[0m in \u001b[0;36mestablish_colors\u001b[0;34m(self, color, palette, saturation)\u001b[0m\n\u001b[1;32m    317\u001b[0m         \u001b[0;31m# Determine the gray color to use for the lines framing the plot\u001b[0m\u001b[0;34m\u001b[0m\u001b[0;34m\u001b[0m\u001b[0;34m\u001b[0m\u001b[0m\n\u001b[1;32m    318\u001b[0m         \u001b[0mlight_vals\u001b[0m \u001b[0;34m=\u001b[0m \u001b[0;34m[\u001b[0m\u001b[0mcolorsys\u001b[0m\u001b[0;34m.\u001b[0m\u001b[0mrgb_to_hls\u001b[0m\u001b[0;34m(\u001b[0m\u001b[0;34m*\u001b[0m\u001b[0mc\u001b[0m\u001b[0;34m)\u001b[0m\u001b[0;34m[\u001b[0m\u001b[0;36m1\u001b[0m\u001b[0;34m]\u001b[0m \u001b[0;32mfor\u001b[0m \u001b[0mc\u001b[0m \u001b[0;32min\u001b[0m \u001b[0mrgb_colors\u001b[0m\u001b[0;34m]\u001b[0m\u001b[0;34m\u001b[0m\u001b[0;34m\u001b[0m\u001b[0m\n\u001b[0;32m--> 319\u001b[0;31m         \u001b[0mlum\u001b[0m \u001b[0;34m=\u001b[0m \u001b[0mmin\u001b[0m\u001b[0;34m(\u001b[0m\u001b[0mlight_vals\u001b[0m\u001b[0;34m)\u001b[0m \u001b[0;34m*\u001b[0m \u001b[0;36m.6\u001b[0m\u001b[0;34m\u001b[0m\u001b[0;34m\u001b[0m\u001b[0m\n\u001b[0m\u001b[1;32m    320\u001b[0m         \u001b[0mgray\u001b[0m \u001b[0;34m=\u001b[0m \u001b[0mmpl\u001b[0m\u001b[0;34m.\u001b[0m\u001b[0mcolors\u001b[0m\u001b[0;34m.\u001b[0m\u001b[0mrgb2hex\u001b[0m\u001b[0;34m(\u001b[0m\u001b[0;34m(\u001b[0m\u001b[0mlum\u001b[0m\u001b[0;34m,\u001b[0m \u001b[0mlum\u001b[0m\u001b[0;34m,\u001b[0m \u001b[0mlum\u001b[0m\u001b[0;34m)\u001b[0m\u001b[0;34m)\u001b[0m\u001b[0;34m\u001b[0m\u001b[0;34m\u001b[0m\u001b[0m\n\u001b[1;32m    321\u001b[0m \u001b[0;34m\u001b[0m\u001b[0m\n",
      "\u001b[0;31mValueError\u001b[0m: min() arg is an empty sequence"
     ]
    },
    {
     "data": {
      "text/plain": [
       "<Figure size 1080x1080 with 0 Axes>"
      ]
     },
     "metadata": {},
     "output_type": "display_data"
    }
   ],
   "source": [
    "df_new_to_plot['type_metric'] = np.where(df_new_to_plot['variable'].isin(var_justification_wrong), 'justification', 'action')\n",
    "fig = plt.figure(figsize=(15,15))\n",
    "fig.suptitle('Justification for considering the news as Fake', size=18)\n",
    "ax = sns.boxplot(y=\"variable\", x=\"value\",\n",
    "                hue=\"type_news\",\n",
    "\n",
    "                data=df_new_to_plot[df_new_to_plot['type_metric'] == 'justification'],\n",
    "                )"
   ]
  },
  {
   "cell_type": "code",
   "execution_count": 23,
   "id": "c1e61c8c-b6a0-47fb-a6e0-cedbe838ce91",
   "metadata": {},
   "outputs": [
    {
     "data": {
      "image/png": "[encoded data removed]",
      "text/plain": [
       "<Figure size 1080x1080 with 1 Axes>"
      ]
     },
     "metadata": {},
     "output_type": "display_data"
    }
   ],
   "source": [
    "plt.figure(figsize=(15,15))\n",
    "ax = sns.boxplot(x=\"variable\", y=\"value\",\n",
    "\n",
    "                hue=\"type_news\",\n",
    "\n",
    "                data=df_new_to_plot[df_new_to_plot['type_metric'] == 'action'])"
   ]
  },
  {
   "cell_type": "code",
   "execution_count": 24,
   "id": "5c6fbe35-cac5-425d-860f-a82c7e6bc800",
   "metadata": {},
   "outputs": [],
   "source": [
    "## Min-max the columns \n",
    "#from sklearn.preprocessing import MinMaxScaler\n",
    "#Scaler = MinMaxScaler()\n",
    "#df_avg_justification_wrong[df_avg_justification_wrong.columns[1:]] = Scaler.fit_transform(df_avg_justification_wrong.columns[1:])\n"
   ]
  },
  {
   "cell_type": "markdown",
   "id": "826fd8a9-9d48-41b4-8a29-bb6bdf44b7fe",
   "metadata": {
    "tags": []
   },
   "source": [
    "# Analysis"
   ]
  },
  {
   "cell_type": "markdown",
   "id": "20facd32-ef98-4c17-9b4c-a4b8e02f41ff",
   "metadata": {},
   "source": [
    "## Media consumption"
   ]
  },
  {
   "cell_type": "code",
   "execution_count": 25,
   "id": "d3acbf0c-3e04-4898-9177-d8ddd988e9f5",
   "metadata": {},
   "outputs": [],
   "source": [
    "list_predictors = ['rutina_tele', 'rutina_internet', 'rutina_redes', 'rutina_libros', 'rutina_whatsapp', 'rutina_radio' ]"
   ]
  },
  {
   "cell_type": "markdown",
   "id": "c475a660-30b6-4219-8409-4dd120becbb8",
   "metadata": {},
   "source": [
    "## Hypothesis about sharing news on social network"
   ]
  },
  {
   "cell_type": "code",
   "execution_count": 26,
   "id": "40b6eca2-81cd-4532-93e2-b09b2a5c965e",
   "metadata": {},
   "outputs": [],
   "source": [
    "var_actions_f = ['faf_compartira_familia_amigos', 'faf_publicara_redes', 'faf_consultara_fuentes', 'faf_aplicara_aprendido', 'faf_no_accion']\n",
    "var_actions_t = ['taf_compartira_familia_amigos', 'taf_publicara_redes', 'taf_consultara_fuentes', 'taf_aplicara_aprendido', 'taf_no_accion']\n",
    "var_actions = var_actions_f + var_actions_t"
   ]
  },
  {
   "cell_type": "markdown",
   "id": "7d2e3192-5360-4f22-8b3f-30bd9df716b7",
   "metadata": {},
   "source": [
    "When people think the news is a True News, they were asked what action they will do and if they will share it on social network. \n",
    "Here, to link with the other aspect of the research, we see how more likely the gender and the type of news elicit a tendency to share the news.\n"
   ]
  },
  {
   "cell_type": "code",
   "execution_count": 27,
   "id": "46b9e26c-2a65-4c8a-a0ec-69f1c2a7210f",
   "metadata": {},
   "outputs": [
    {
     "ename": "NameError",
     "evalue": "name 'df' is not defined",
     "output_type": "error",
     "traceback": [
      "\u001b[0;31m-----------------------------------------------------------------------\u001b[0m",
      "\u001b[0;31mNameError\u001b[0m                             Traceback (most recent call last)",
      "\u001b[0;32m<ipython-input-27-5006ac4d6fa5>\u001b[0m in \u001b[0;36m<module>\u001b[0;34m\u001b[0m\n\u001b[1;32m      1\u001b[0m \u001b[0mmelt_true_fake_news\u001b[0m \u001b[0;34m=\u001b[0m \u001b[0;34m[\u001b[0m\u001b[0;34m'faf_publicara_redes'\u001b[0m\u001b[0;34m,\u001b[0m \u001b[0;34m'taf_publicara_redes'\u001b[0m\u001b[0;34m,\u001b[0m \u001b[0;34m'dm_genero'\u001b[0m\u001b[0;34m]\u001b[0m\u001b[0;34m\u001b[0m\u001b[0;34m\u001b[0m\u001b[0m\n\u001b[0;32m----> 2\u001b[0;31m \u001b[0mdata\u001b[0m \u001b[0;34m=\u001b[0m \u001b[0mdf\u001b[0m\u001b[0;34m[\u001b[0m\u001b[0;34m[\u001b[0m\u001b[0;34m'True news'\u001b[0m\u001b[0;34m,\u001b[0m \u001b[0;34m'Fake news'\u001b[0m\u001b[0;34m,\u001b[0m \u001b[0;34m*\u001b[0m\u001b[0mmelt_true_fake_news\u001b[0m\u001b[0;34m]\u001b[0m\u001b[0;34m]\u001b[0m\u001b[0;34m\u001b[0m\u001b[0;34m\u001b[0m\u001b[0m\n\u001b[0m\u001b[1;32m      3\u001b[0m \u001b[0mdata\u001b[0m \u001b[0;34m=\u001b[0m \u001b[0mdata\u001b[0m\u001b[0;34m.\u001b[0m\u001b[0mmelt\u001b[0m\u001b[0;34m(\u001b[0m\u001b[0mid_vars\u001b[0m\u001b[0;34m=\u001b[0m\u001b[0;34m[\u001b[0m\u001b[0;34m*\u001b[0m\u001b[0mmelt_true_fake_news\u001b[0m\u001b[0;34m]\u001b[0m\u001b[0;34m)\u001b[0m\u001b[0;34m\u001b[0m\u001b[0;34m\u001b[0m\u001b[0m\n\u001b[1;32m      4\u001b[0m \u001b[0mdata\u001b[0m \u001b[0;34m=\u001b[0m \u001b[0mdata\u001b[0m\u001b[0;34m.\u001b[0m\u001b[0mrename\u001b[0m\u001b[0;34m(\u001b[0m\u001b[0mcolumns\u001b[0m\u001b[0;34m=\u001b[0m\u001b[0;34m{\u001b[0m\u001b[0;34m'variable'\u001b[0m\u001b[0;34m:\u001b[0m \u001b[0;34m'type_news'\u001b[0m\u001b[0;34m,\u001b[0m \u001b[0;34m'value'\u001b[0m\u001b[0;34m:\u001b[0m \u001b[0;34m'answer'\u001b[0m\u001b[0;34m}\u001b[0m\u001b[0;34m)\u001b[0m\u001b[0;34m\u001b[0m\u001b[0;34m\u001b[0m\u001b[0m\n\u001b[1;32m      5\u001b[0m \u001b[0;31m# only get the people that had the sharing option for them\u001b[0m\u001b[0;34m\u001b[0m\u001b[0;34m\u001b[0m\u001b[0;34m\u001b[0m\u001b[0m\n",
      "\u001b[0;31mNameError\u001b[0m: name 'df' is not defined"
     ]
    }
   ],
   "source": [
    "melt_true_fake_news = ['faf_publicara_redes', 'taf_publicara_redes', 'dm_genero']\n",
    "data = df[['True news', 'Fake news', *melt_true_fake_news]]\n",
    "data = data.melt(id_vars=[*melt_true_fake_news])\n",
    "data = data.rename(columns={'variable': 'type_news', 'value': 'answer'})\n",
    "# only get the people that had the sharing option for them \n",
    "data = data[(((data['type_news'] == 'True news') & (data['answer'] == 'Right')) | ((data['type_news'] == 'Fake news') & (data['answer'] == 'Wrong')))]\n",
    "\n",
    "# Create sharing columns based on the appropriate original column\n",
    "data.loc[data.type_news == 'True news', 'Social_Network_Sharing'] = data['taf_publicara_redes']\n",
    "data.loc[data.type_news == 'Fake news', 'Social_Network_Sharing'] = data['faf_publicara_redes']\n",
    "\n",
    "# drop the two faf and taf\n",
    "data = data.drop(columns=['faf_publicara_redes', 'taf_publicara_redes', 'answer'])\n",
    "data = data.dropna()\n",
    "data_reg = data.copy()\n",
    "X = data.loc[:, data.columns != 'Social_Network_Sharing']\n",
    "\n",
    "#X = prepare_dummies(X, list_cat=X.columns.values)\n",
    "# Add an intercept: disable by default: https://stats.stackexchange.com/questions/203740/logistic-regression-scikit-learn-vs-statsmodels\n",
    "Y = data['Social_Network_Sharing'].astype('int64')\n",
    "X = pd.get_dummies(X, drop_first=True)\n",
    "X = sm.add_constant(X)"
   ]
  },
  {
   "cell_type": "code",
   "execution_count": null,
   "id": "64430fd5-0e4f-489e-882c-39bd2e8d014c",
   "metadata": {},
   "outputs": [],
   "source": [
    "# building the model and fitting the data\n",
    "log_reg = sm.Logit(Y, X).fit()\n",
    "m1 = smf.logit(formula='Social_Network_Sharing ~ ' + '+'.join(['dm_genero', 'type_news']) + ' + ' + ' * '.join(['dm_genero', 'type_news']), data=data_reg).fit()"
   ]
  },
  {
   "cell_type": "code",
   "execution_count": null,
   "id": "2529d85e-c753-45ec-b0bc-4f7aa243229a",
   "metadata": {},
   "outputs": [],
   "source": [
    "print(log_reg.summary())\n",
    "print(m1.summary())"
   ]
  },
  {
   "cell_type": "markdown",
   "id": "8ca957ba-d8f3-41cc-8261-13a20796a7ab",
   "metadata": {},
   "source": [
    "# Hypothesis about sharing news on social network and the reason why they were considered as False"
   ]
  },
  {
   "cell_type": "markdown",
   "id": "49f5db0f-fa98-41fa-8af7-4c266781f367",
   "metadata": {},
   "source": [
    "Here we use the answer given by people that think the news was wrong to see if these caracteristics influence  the propension for people to share them. "
   ]
  },
  {
   "cell_type": "code",
   "execution_count": null,
   "id": "9d280a55-cabc-487f-ad3d-d7ea6037250a",
   "metadata": {
    "tags": []
   },
   "outputs": [],
   "source": [
    "# In case the subject thinks it is a Fake News (regardless of the news)\n",
    "var_justification_wrong = ['tno_aclaracion_desmintiendo',\n",
    "'tno_medio_desconocido',\n",
    "'tno_medio_poco_fiable',\n",
    "'tno_fuentes_desconocidas',\n",
    "'tno_fuentes_no_confiables',\n",
    "'tno_sin_fuentes',\n",
    "'tno_abordaje_no_serio',\n",
    "'tno_no_coherente',\n",
    "'tno_titulo_sensacionalista',\n",
    "'tno_imagen_sensacionalista',\n",
    "'tno_no_concuerda_creencias',\n",
    "'tno_no_alineado_ideologia',\n",
    "'tno_otro']\n",
    "\n",
    "# First creating a score based on the type of news rather than by subject\n",
    "\n",
    "## Creating it for the fake news\n",
    "df_fake = df[['fake_news', *var_justification_wrong]]\n",
    "df_fake = df_fake.replace({True: 1, False: 0})\n",
    "df_fake = df_fake.groupby('fake_news').agg('mean')\n",
    "df_fake.columns = ['avg_' + '_'.join(i.split('_')[1:]) for i in df_fake.columns]\n",
    "df_fake['type_news'] = 'Fake'\n",
    "\n",
    "## Creating for the true news\n",
    "df_true = df[['true_news', *var_justification_wrong]]\n",
    "df_true = df_true.replace({True: 1, False: 0})\n",
    "df_true = df_true.groupby('true_news').agg('mean')\n",
    "df_true.columns = ['avg_' + '_'.join(i.split('_')[1:]) for i in df_true.columns]\n",
    "df_true['type_news'] = 'True'\n",
    "\n",
    "\n",
    "## Append the two dataframe\n",
    "df_avg_justification_wrong = df_fake\n",
    "df_avg_justification_wrong = df_avg_justification_wrong.append(df_true)\n",
    "df_avg_justification_wrong = df_avg_justification_wrong.reset_index().rename(columns={'index': 'news_title'})\n",
    "\n",
    "value_avg_justification = df_avg_justification_wrong.columns[1:-1].values"
   ]
  },
  {
   "cell_type": "code",
   "execution_count": null,
   "id": "b55dfb3a-dd77-4942-ade3-12cc4a6a0038",
   "metadata": {},
   "outputs": [],
   "source": [
    "df_to_plot = df_avg_justification_wrong.melt(id_vars=['news_title', 'type_news'])\n",
    "plt.figure(figsize=(15,15))\n",
    "ax = sns.boxplot(data=df_to_plot, y='variable', x='value', hue='type_news')"
   ]
  },
  {
   "cell_type": "code",
   "execution_count": null,
   "id": "6803c173-6ec6-4d93-a113-c425c3dd85f6",
   "metadata": {},
   "outputs": [],
   "source": [
    "melt_true_fake_news = ['faf_publicara_redes', 'taf_publicara_redes'] \n",
    "\n",
    "data = df[['fake_news', 'true_news', 'True news', 'Fake news', *melt_true_fake_news]]\n",
    "data = data.melt(id_vars=['fake_news', 'true_news', *melt_true_fake_news])\n",
    "data = data.rename(columns={'variable': 'type_news', 'value': 'answer'})\n",
    "# only get the people that had the sharing option for them \n",
    "data = data[(((data['type_news'] == 'True news') & (data['answer'] == 'Right')) | ((data['type_news'] == 'Fake news') & (data['answer'] == 'Wrong')))]\n",
    "data.drop(columns = ['type_news', 'answer'], inplace=True)\n",
    "\n",
    "\n",
    "df_fake_title = data.drop(columns=['true_news']).melt(id_vars=[*melt_true_fake_news])#.drop(columns=['variable'])\n",
    "df_fake_title = df_fake_title.rename(columns={'value': 'news_title', 'faf_publicara_redes': 'shared_network'})\n",
    "#df_fake_title = df_fake_title.merge(df_avg_justification_wrong, on='news_title')\n",
    "df_fake_title.drop(columns=['taf_publicara_redes'], inplace=True)\n",
    "\n",
    "df_true_title = data.drop(columns=['fake_news']).melt(id_vars=[*melt_true_fake_news])#.drop(columns=['variable'])\n",
    "df_true_title = df_true_title.rename(columns={'value': 'news_title', 'taf_publicara_redes': 'shared_network'})\n",
    "#df_true_title = df_true_title.merge(df_avg_justification_wrong, on='news_title')\n",
    "df_true_title.drop(columns=['faf_publicara_redes'], inplace=True)\n",
    "\n",
    "data = df_fake_title\n",
    "data = data.append(df_true_title)\n",
    "data = data.merge(df_avg_justification_wrong, on='news_title').drop(columns=['variable'])\n",
    "#data.dropna(subset = [\"shared_network\"], inplace=True)"
   ]
  },
  {
   "cell_type": "code",
   "execution_count": null,
   "id": "022096d5-e9f3-48eb-8a8d-f3b8b98cf4b7",
   "metadata": {},
   "outputs": [],
   "source": [
    "#data_lg = data[['shared_network', 'avg_no_coherente', 'type_news']]\n",
    "\n",
    "X = data.loc[:, data.columns != 'shared_network']\n",
    "\n",
    "#X = prepare_dummies(X, list_cat=X.columns.values)\n",
    "# Add an intercept: disable by default: https://stats.stackexchange.com/questions/203740/logistic-regression-scikit-learn-vs-statsmodels\n",
    "Y = data['shared_network'].astype('int64')\n",
    "X = pd.get_dummies(X, drop_first=True)\n",
    "X = sm.add_constant(X)"
   ]
  },
  {
   "cell_type": "code",
   "execution_count": null,
   "id": "47c79739-835b-438e-840c-a0f8f0fd31f2",
   "metadata": {},
   "outputs": [],
   "source": [
    "# building the model and fitting the data\n",
    "#log_reg = sm.Logit(Y, X).fit()\n",
    "#formula = 'shared_network ~ ' + '+'.join([col for col in data.columns if col != 'shared_network']) #+ ' + ' + ' * '.join(['avg_imagen_sensacionalista', 'type_news'])\n",
    "formula = 'shared_network ~ ' + ' + '.join(['avg_imagen_sensacionalista', 'type_news'])\n",
    "m1 = smf.logit(formula=formula, data=data).fit()"
   ]
  },
  {
   "cell_type": "code",
   "execution_count": null,
   "id": "039d0f1f-b9ad-4e02-89b4-dfbfaf7c4e94",
   "metadata": {},
   "outputs": [],
   "source": [
    "print(m1.summary())"
   ]
  },
  {
   "cell_type": "markdown",
   "id": "52c62fec-03d7-4718-a702-de4f89420519",
   "metadata": {},
   "source": [
    "# Sources\n",
    "\n",
    "## Packages\n",
    "\n",
    " * [mord](https://github.com/fabianp/mord): Pedregosa, Fabian, Francis Bach, and Alexandre Gramfort. \"On the consistency of ordinal regression methods.\" The Journal of Machine Learning Research 18.1 (2017) JMLR.\n",
    " * [pingouin](https://pingouin-stats.org/): Vallat, R. (2018). Pingouin: statistics in Python. Journal of Open Source Software, 3(31), 1026, https://doi.org/10.21105/joss.01026\n",
    " * statsmodels: [https://www.statsmodels.org/stable/index.html#citation](https://www.statsmodels.org/stable/index.html#citation)\n",
    "    > @inproceedings{seabold2010statsmodels,title={statsmodels: Econometric and statistical modeling with python}, author={Seabold, Skipper and Perktold, Josef}, booktitle={9th Python in Science Conference},year={2010},}\n",
    " * [scipy](https://www.scipy.org/citing.html): Pauli Virtanen, Ralf Gommers, Travis E. Oliphant, Matt Haberland, Tyler Reddy, David Cournapeau, Evgeni Burovski, Pearu Peterson, Warren Weckesser, Jonathan Bright, Stéfan J. van der Walt, Matthew Brett, Joshua Wilson, K. Jarrod Millman, Nikolay Mayorov, Andrew R. J. Nelson, Eric Jones, Robert Kern, Eric Larson, CJ Carey, İlhan Polat, Yu Feng, Eric W. Moore, Jake VanderPlas, Denis Laxalde, Josef Perktold, Robert Cimrman, Ian Henriksen, E.A. Quintero, Charles R Harris, Anne M. Archibald, Antônio H. Ribeiro, Fabian Pedregosa, Paul van Mulbregt, and SciPy 1.0 Contributors. (2020) SciPy 1.0: Fundamental Algorithms for Scientific Computing in Python. Nature Methods, 17(3), 261-272.\n",
    " * [scikit-learn](https://scikit-learn.org/stable/): Fabian Pedregosa, Gaël Varoquaux, Alexandre Gramfort, Vincent Michel, Bertrand Thirion, Olivier Grisel, Mathieu Blondel, Peter Prettenhofer, Ron Weiss, Vincent Dubourg, Jake Vanderplas, Alexandre Passos, David Cournapeau, Matthieu Brucher, Matthieu Perrot, Édouard Duchesnay. Scikit-learn: Machine Learning in Python, Journal of Machine Learning Research, 12, 2825-2830 (2011) (publisher link)\n",
    "\n",
    "## Articles\n",
    "\n",
    "*   Bürkner, P.-C., & Vuorre, M. (2019). Ordinal Regression Models in Psychology: A Tutorial. Advances in Methods and Practices in Psychological Science, 77–101. https://doi.org/10.1177/2515245918823199\n",
    "\n",
    "* Midi, H., Sarkar, S. K., & Rana, S. (2010). Collinearity diagnostics of binary logistic regression model. Journal of Interdisciplinary Mathematics, 13(3), 253–267. doi:10.1080/09720502.2010.10700699 \n",
    "\n",
    "* Kuha, J., & Mills, C. (n.d.). On Group Comparisons with Logistic Regression Models. 24.\n"
   ]
  }
 ],
 "metadata": {
  "kernelspec": {
   "display_name": "Python 3",
   "language": "python",
   "name": "python3"
  },
  "language_info": {
   "codemirror_mode": {
    "name": "ipython",
    "version": 3
   },
   "file_extension": ".py",
   "mimetype": "text/x-python",
   "name": "python",
   "nbconvert_exporter": "python",
   "pygments_lexer": "ipython3",
   "version": "3.9.5"
  },
  "toc-autonumbering": true,
  "toc-showtags": true
 },
 "nbformat": 4,
 "nbformat_minor": 5
}
