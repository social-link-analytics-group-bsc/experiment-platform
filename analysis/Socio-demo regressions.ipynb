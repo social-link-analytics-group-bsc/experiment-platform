{
 "cells": [
  {
   "cell_type": "markdown",
   "id": "b8d9b808-816e-4c44-914d-1214097397aa",
   "metadata": {},
   "source": [
    "# Introduction"
   ]
  },
  {
   "cell_type": "markdown",
   "id": "ff13d4f8-95a5-4336-8028-82a0fd8950f7",
   "metadata": {},
   "source": [
    "This notebook analyse the interaction and the effects the different sociodemographics variables can have on the detection (or absence of detection) of disinformation and their impact on sharing the news."
   ]
  },
  {
   "cell_type": "markdown",
   "id": "04432aaa-759e-4a0d-9c6b-2b919e0bfbce",
   "metadata": {},
   "source": [
    "## Import modules and functions"
   ]
  },
  {
   "cell_type": "markdown",
   "id": "a855d4a2-31e3-466e-883c-35c54d7c524a",
   "metadata": {},
   "source": [
    "### Modules"
   ]
  },
  {
   "cell_type": "code",
   "execution_count": 1,
   "id": "b4fdb901-b55a-40f5-a1fc-804f57c286a7",
   "metadata": {},
   "outputs": [],
   "source": [
    "# Import modules\n",
    "import json\n",
    "import csv\n",
    "import itertools "
   ]
  },
  {
   "cell_type": "code",
   "execution_count": 2,
   "id": "80d27c57-e594-42a0-95e2-103a47d9011b",
   "metadata": {},
   "outputs": [],
   "source": [
    "# Classic analysis imports\n",
    "import numpy as np \n",
    "import pandas as pd \n",
    "import matplotlib as mp\n",
    "import matplotlib.pyplot as plt\n",
    "import matplotlib.dates as mdates\n",
    "import matplotlib.patches as mpatches\n",
    "from matplotlib.lines import Line2D\n",
    "import seaborn as sns"
   ]
  },
  {
   "cell_type": "code",
   "execution_count": 3,
   "id": "18aeb2db-1c76-46d2-97fd-90bc004c07e8",
   "metadata": {},
   "outputs": [],
   "source": [
    "# Stat analysis import \n",
    "from sklearn import preprocessing\n",
    "from sklearn.cluster import KMeans\n",
    "\n",
    "import math\n",
    "\n",
    "import scipy \n",
    "from scipy.stats import chi2_contingency\n",
    "from scipy.stats import chi2\n",
    "\n",
    "import scikit_posthocs as sp\n",
    "\n",
    "import statsmodels.api as sm\n",
    "import statsmodels.formula.api as smf\n",
    "import statsmodels.stats.stattools as stools\n",
    "import statsmodels.stats as stats \n",
    "from statsmodels.graphics.regressionplots import *\n",
    "from statsmodels.formula.api import ols\n",
    "from statsmodels.stats.anova import AnovaRM\n",
    "from statsmodels.stats.anova import anova_lm\n",
    "from statsmodels.stats import multicomp as mc\n",
    "from statsmodels.miscmodels.ordinal_model import OrderedModel\n",
    "\n",
    "import pingouin as pg"
   ]
  },
  {
   "cell_type": "code",
   "execution_count": 4,
   "id": "4e2e496d-317f-4fdb-a594-061a5a06a962",
   "metadata": {},
   "outputs": [],
   "source": [
    "# options for the notebook\n",
    "pd.set_option('display.max_colwidth',1000)\n",
    "plt.style.use('seaborn')\n",
    "sns.set_style('whitegrid')"
   ]
  },
  {
   "cell_type": "markdown",
   "id": "17f1cefb-49d5-4e6d-a1b1-446c820a7a6c",
   "metadata": {},
   "source": [
    "### Functions"
   ]
  },
  {
   "cell_type": "markdown",
   "id": "6a174230-dedc-4b72-9e67-ad7533f0cd57",
   "metadata": {},
   "source": [
    "## Data"
   ]
  },
  {
   "cell_type": "markdown",
   "id": "beaac232-7e93-44d0-84c9-586646c5b938",
   "metadata": {},
   "source": [
    "### Loading"
   ]
  },
  {
   "cell_type": "code",
   "execution_count": 5,
   "id": "5e62cc12-75eb-4670-a2bc-d46fa334a7fa",
   "metadata": {},
   "outputs": [],
   "source": [
    "# Setting up the folders \n",
    "data_folder = \"../data/\"\n",
    "analysis_results_folder = \"../results/\"\n",
    "plots_folders = \"../plots\"\n",
    "\n",
    "# Filenames\n",
    "dataset_filename = 'cleaned_dataset.csv'"
   ]
  },
  {
   "cell_type": "code",
   "execution_count": 6,
   "id": "325ad60b-83a5-40dd-8b5d-ba4a2ff88626",
   "metadata": {},
   "outputs": [
    {
     "data": {
      "text/html": [
       "<div>\n",
       "<style scoped>\n",
       "    .dataframe tbody tr th:only-of-type {\n",
       "        vertical-align: middle;\n",
       "    }\n",
       "\n",
       "    .dataframe tbody tr th {\n",
       "        vertical-align: top;\n",
       "    }\n",
       "\n",
       "    .dataframe thead th {\n",
       "        text-align: right;\n",
       "    }\n",
       "</style>\n",
       "<table border=\"1\" class=\"dataframe\">\n",
       "  <thead>\n",
       "    <tr style=\"text-align: right;\">\n",
       "      <th></th>\n",
       "      <th>fake_news</th>\n",
       "      <th>true_news</th>\n",
       "      <th>first_true</th>\n",
       "      <th>reread_fake</th>\n",
       "      <th>reread_true</th>\n",
       "      <th>date_arrive</th>\n",
       "      <th>date_finish</th>\n",
       "      <th>state</th>\n",
       "      <th>time</th>\n",
       "      <th>id_sondea</th>\n",
       "      <th>...</th>\n",
       "      <th>R-W</th>\n",
       "      <th>dm_pref_religion</th>\n",
       "      <th>recode_religion</th>\n",
       "      <th>recode_politics</th>\n",
       "      <th>recode_age</th>\n",
       "      <th>dm_education</th>\n",
       "      <th>recode_education</th>\n",
       "      <th>recode_education2</th>\n",
       "      <th>total_checked_f</th>\n",
       "      <th>total_checked_t</th>\n",
       "    </tr>\n",
       "  </thead>\n",
       "  <tbody>\n",
       "    <tr>\n",
       "      <th>0</th>\n",
       "      <td>Stefano Montario: las mascarillas incuban el cáncer</td>\n",
       "      <td>Una vacuna contra la poliomielitis podría ser la solución contra el coronavirus</td>\n",
       "      <td>True</td>\n",
       "      <td>False</td>\n",
       "      <td>False</td>\n",
       "      <td>2021-03-17 14:04:13.103024+00:00</td>\n",
       "      <td>2021-03-17 14:10:39.487599+00:00</td>\n",
       "      <td>result</td>\n",
       "      <td>6.43</td>\n",
       "      <td>610</td>\n",
       "      <td>...</td>\n",
       "      <td>W</td>\n",
       "      <td>Agnóstico</td>\n",
       "      <td>Atheists/Agnostics</td>\n",
       "      <td>Izquierda</td>\n",
       "      <td>&gt;55</td>\n",
       "      <td>Secundaria</td>\n",
       "      <td>No university studies</td>\n",
       "      <td>up_to_secondaria</td>\n",
       "      <td>1</td>\n",
       "      <td>1</td>\n",
       "    </tr>\n",
       "    <tr>\n",
       "      <th>1</th>\n",
       "      <td>La OMS alerta sobre el Virus Nipah, que puede ser peor que el Covid-19</td>\n",
       "      <td>Coronavirus: llega a Madrid el material sanitario al que Huawei se comprometió con el rey Felipe VI</td>\n",
       "      <td>True</td>\n",
       "      <td>False</td>\n",
       "      <td>False</td>\n",
       "      <td>2021-03-15 20:16:10.657700+00:00</td>\n",
       "      <td>2021-03-15 20:18:37.196160+00:00</td>\n",
       "      <td>result</td>\n",
       "      <td>2.45</td>\n",
       "      <td>2006</td>\n",
       "      <td>...</td>\n",
       "      <td>W</td>\n",
       "      <td>Católico</td>\n",
       "      <td>Believers</td>\n",
       "      <td>Izquierda</td>\n",
       "      <td>&gt;55</td>\n",
       "      <td>Secundaria</td>\n",
       "      <td>No university studies</td>\n",
       "      <td>up_to_secondaria</td>\n",
       "      <td>1</td>\n",
       "      <td>1</td>\n",
       "    </tr>\n",
       "    <tr>\n",
       "      <th>2</th>\n",
       "      <td>Hantavirus. La OMS advierte al mundo del nuevo virus que viene de China</td>\n",
       "      <td>Utilizar guantes no tiene ningún sentido</td>\n",
       "      <td>False</td>\n",
       "      <td>True</td>\n",
       "      <td>True</td>\n",
       "      <td>2021-03-17 12:49:33.008115+00:00</td>\n",
       "      <td>2021-03-17 13:14:09.004934+00:00</td>\n",
       "      <td>result</td>\n",
       "      <td>43.65</td>\n",
       "      <td>2266</td>\n",
       "      <td>...</td>\n",
       "      <td>W</td>\n",
       "      <td>Agnóstico</td>\n",
       "      <td>Atheists/Agnostics</td>\n",
       "      <td>NaN</td>\n",
       "      <td>&gt;55</td>\n",
       "      <td>Grado/Licenciatura</td>\n",
       "      <td>University studies</td>\n",
       "      <td>up_to_university_level</td>\n",
       "      <td>1</td>\n",
       "      <td>1</td>\n",
       "    </tr>\n",
       "    <tr>\n",
       "      <th>3</th>\n",
       "      <td>Demuestran científicamente la relación causal entre la tecnologia 5G y el COVID-19</td>\n",
       "      <td>Coronavirus | No hay evidencia de que los perros transmitan el virus</td>\n",
       "      <td>False</td>\n",
       "      <td>False</td>\n",
       "      <td>False</td>\n",
       "      <td>2021-03-16 16:44:06.670711+00:00</td>\n",
       "      <td>2021-03-16 16:49:18.354946+00:00</td>\n",
       "      <td>result</td>\n",
       "      <td>5.20</td>\n",
       "      <td>2331</td>\n",
       "      <td>...</td>\n",
       "      <td>W</td>\n",
       "      <td>Ateo</td>\n",
       "      <td>Atheists/Agnostics</td>\n",
       "      <td>Centro</td>\n",
       "      <td>35-54</td>\n",
       "      <td>Master</td>\n",
       "      <td>University studies</td>\n",
       "      <td>up_to_university_level</td>\n",
       "      <td>1</td>\n",
       "      <td>1</td>\n",
       "    </tr>\n",
       "    <tr>\n",
       "      <th>4</th>\n",
       "      <td>La OMS alerta sobre el Virus Nipah, que puede ser peor que el Covid-19</td>\n",
       "      <td>Moscú vigilará la cuarentena mediante un código QR</td>\n",
       "      <td>False</td>\n",
       "      <td>True</td>\n",
       "      <td>False</td>\n",
       "      <td>2021-03-16 14:30:01.034250+00:00</td>\n",
       "      <td>2021-03-16 14:46:49.878175+00:00</td>\n",
       "      <td>result</td>\n",
       "      <td>25.03</td>\n",
       "      <td>2548</td>\n",
       "      <td>...</td>\n",
       "      <td>R</td>\n",
       "      <td>Agnóstico</td>\n",
       "      <td>Atheists/Agnostics</td>\n",
       "      <td>NaN</td>\n",
       "      <td>&gt;55</td>\n",
       "      <td>Doctorado</td>\n",
       "      <td>University studies</td>\n",
       "      <td>up_to_university_level</td>\n",
       "      <td>1</td>\n",
       "      <td>1</td>\n",
       "    </tr>\n",
       "  </tbody>\n",
       "</table>\n",
       "<p>5 rows × 121 columns</p>\n",
       "</div>"
      ],
      "text/plain": [
       "                                                                            fake_news  \\\n",
       "0                                 Stefano Montario: las mascarillas incuban el cáncer   \n",
       "1              La OMS alerta sobre el Virus Nipah, que puede ser peor que el Covid-19   \n",
       "2             Hantavirus. La OMS advierte al mundo del nuevo virus que viene de China   \n",
       "3  Demuestran científicamente la relación causal entre la tecnologia 5G y el COVID-19   \n",
       "4              La OMS alerta sobre el Virus Nipah, que puede ser peor que el Covid-19   \n",
       "\n",
       "                                                                                             true_news  \\\n",
       "0                      Una vacuna contra la poliomielitis podría ser la solución contra el coronavirus   \n",
       "1  Coronavirus: llega a Madrid el material sanitario al que Huawei se comprometió con el rey Felipe VI   \n",
       "2                                                             Utilizar guantes no tiene ningún sentido   \n",
       "3                                 Coronavirus | No hay evidencia de que los perros transmitan el virus   \n",
       "4                                                   Moscú vigilará la cuarentena mediante un código QR   \n",
       "\n",
       "   first_true  reread_fake  reread_true                       date_arrive  \\\n",
       "0        True        False        False  2021-03-17 14:04:13.103024+00:00   \n",
       "1        True        False        False  2021-03-15 20:16:10.657700+00:00   \n",
       "2       False         True         True  2021-03-17 12:49:33.008115+00:00   \n",
       "3       False        False        False  2021-03-16 16:44:06.670711+00:00   \n",
       "4       False         True        False  2021-03-16 14:30:01.034250+00:00   \n",
       "\n",
       "                        date_finish   state   time  id_sondea  ...  R-W  \\\n",
       "0  2021-03-17 14:10:39.487599+00:00  result   6.43        610  ...    W   \n",
       "1  2021-03-15 20:18:37.196160+00:00  result   2.45       2006  ...    W   \n",
       "2  2021-03-17 13:14:09.004934+00:00  result  43.65       2266  ...    W   \n",
       "3  2021-03-16 16:49:18.354946+00:00  result   5.20       2331  ...    W   \n",
       "4  2021-03-16 14:46:49.878175+00:00  result  25.03       2548  ...    R   \n",
       "\n",
       "  dm_pref_religion     recode_religion recode_politics recode_age  \\\n",
       "0        Agnóstico  Atheists/Agnostics       Izquierda        >55   \n",
       "1         Católico           Believers       Izquierda        >55   \n",
       "2        Agnóstico  Atheists/Agnostics             NaN        >55   \n",
       "3             Ateo  Atheists/Agnostics          Centro      35-54   \n",
       "4        Agnóstico  Atheists/Agnostics             NaN        >55   \n",
       "\n",
       "         dm_education       recode_education       recode_education2  \\\n",
       "0          Secundaria  No university studies        up_to_secondaria   \n",
       "1          Secundaria  No university studies        up_to_secondaria   \n",
       "2  Grado/Licenciatura     University studies  up_to_university_level   \n",
       "3              Master     University studies  up_to_university_level   \n",
       "4           Doctorado     University studies  up_to_university_level   \n",
       "\n",
       "  total_checked_f total_checked_t  \n",
       "0               1               1  \n",
       "1               1               1  \n",
       "2               1               1  \n",
       "3               1               1  \n",
       "4               1               1  \n",
       "\n",
       "[5 rows x 121 columns]"
      ]
     },
     "execution_count": 6,
     "metadata": {},
     "output_type": "execute_result"
    }
   ],
   "source": [
    "df = pd.read_csv('{}{}'.format(data_folder, dataset_filename))\n",
    "df.head()"
   ]
  },
  {
   "cell_type": "markdown",
   "id": "826fd8a9-9d48-41b4-8a29-bb6bdf44b7fe",
   "metadata": {
    "tags": []
   },
   "source": [
    "# Analysis"
   ]
  },
  {
   "cell_type": "markdown",
   "id": "20facd32-ef98-4c17-9b4c-a4b8e02f41ff",
   "metadata": {},
   "source": [
    "## Media consumption"
   ]
  },
  {
   "cell_type": "code",
   "execution_count": 7,
   "id": "d3acbf0c-3e04-4898-9177-d8ddd988e9f5",
   "metadata": {},
   "outputs": [],
   "source": [
    "list_predictors = ['rutina_tele', 'rutina_internet', 'rutina_redes', 'rutina_libros', 'rutina_whatsapp', 'rutina_radio' ]"
   ]
  },
  {
   "cell_type": "markdown",
   "id": "c475a660-30b6-4219-8409-4dd120becbb8",
   "metadata": {},
   "source": [
    "## Hypothesis about sharing news on social network"
   ]
  },
  {
   "cell_type": "code",
   "execution_count": 8,
   "id": "40b6eca2-81cd-4532-93e2-b09b2a5c965e",
   "metadata": {},
   "outputs": [],
   "source": [
    "var_actions_f = ['faf_compartira_familia_amigos', 'faf_publicara_redes', 'faf_consultara_fuentes', 'faf_aplicara_aprendido', 'faf_no_accion']\n",
    "var_actions_t = ['taf_compartira_familia_amigos', 'taf_publicara_redes', 'taf_consultara_fuentes', 'taf_aplicara_aprendido', 'taf_no_accion']\n",
    "var_actions = var_actions_f + var_actions_t"
   ]
  },
  {
   "cell_type": "markdown",
   "id": "7d2e3192-5360-4f22-8b3f-30bd9df716b7",
   "metadata": {},
   "source": [
    "When people think the news is a True News, they were asked what action they will do and if they will share it on social network. \n",
    "Here, to link with the other aspect of the research, we see how more likely the gender and the type of news elicit a tendency to share the news.\n"
   ]
  },
  {
   "cell_type": "code",
   "execution_count": 9,
   "id": "46b9e26c-2a65-4c8a-a0ec-69f1c2a7210f",
   "metadata": {},
   "outputs": [],
   "source": [
    "melt_true_fake_news = ['faf_publicara_redes', 'taf_publicara_redes', 'dm_genero']\n",
    "data = df[['True news', 'Fake news', *melt_true_fake_news]]\n",
    "data = data.melt(id_vars=[*melt_true_fake_news])\n",
    "data = data.rename(columns={'variable': 'type_news', 'value': 'answer'})\n",
    "# only get the people that had the sharing option for them \n",
    "data = data[(((data['type_news'] == 'True news') & (data['answer'] == 'Right')) | ((data['type_news'] == 'Fake news') & (data['answer'] == 'Wrong')))]\n",
    "\n",
    "# Create sharing columns based on the appropriate original column\n",
    "data.loc[data.type_news == 'True news', 'Social_Network_Sharing'] = data['taf_publicara_redes']\n",
    "data.loc[data.type_news == 'Fake news', 'Social_Network_Sharing'] = data['faf_publicara_redes']\n",
    "\n",
    "# drop the two faf and taf\n",
    "data = data.drop(columns=['faf_publicara_redes', 'taf_publicara_redes', 'answer'])\n",
    "data['type_news'].value_counts()\n",
    "data = data.dropna()\n",
    "data_reg = data.copy()\n",
    "X = data.loc[:, data.columns != 'Social_Network_Sharing']\n",
    "\n",
    "#X = prepare_dummies(X, list_cat=X.columns.values)\n",
    "# Add an intercept: disable by default: https://stats.stackexchange.com/questions/203740/logistic-regression-scikit-learn-vs-statsmodels\n",
    "Y = data['Social_Network_Sharing'].astype('int64')\n",
    "X = pd.get_dummies(X, drop_first=True)\n",
    "X = sm.add_constant(X)"
   ]
  },
  {
   "cell_type": "code",
   "execution_count": 10,
   "id": "64430fd5-0e4f-489e-882c-39bd2e8d014c",
   "metadata": {},
   "outputs": [
    {
     "name": "stdout",
     "output_type": "stream",
     "text": [
      "Optimization terminated successfully.\n",
      "         Current function value: 0.310500\n",
      "         Iterations 6\n",
      "Optimization terminated successfully.\n",
      "         Current function value: 0.310343\n",
      "         Iterations 7\n"
     ]
    }
   ],
   "source": [
    "# building the model and fitting the data\n",
    "log_reg = sm.Logit(Y, X).fit()\n",
    "m1 = smf.logit(formula='Social_Network_Sharing ~ ' + '+'.join(['dm_genero', 'type_news']) + ' + ' + ' * '.join(['dm_genero', 'type_news']), data=data_reg).fit()"
   ]
  },
  {
   "cell_type": "code",
   "execution_count": 11,
   "id": "2529d85e-c753-45ec-b0bc-4f7aa243229a",
   "metadata": {},
   "outputs": [
    {
     "name": "stdout",
     "output_type": "stream",
     "text": [
      "                             Logit Regression Results                             \n",
      "==================================================================================\n",
      "Dep. Variable:     Social_Network_Sharing   No. Observations:                  879\n",
      "Model:                              Logit   Df Residuals:                      875\n",
      "Method:                               MLE   Df Model:                            3\n",
      "Date:                    Fri, 11 Jun 2021   Pseudo R-squ.:                0.007409\n",
      "Time:                            11:14:13   Log-Likelihood:                -272.79\n",
      "converged:                           True   LL-Null:                       -274.83\n",
      "Covariance Type:                nonrobust   LLR p-value:                    0.2538\n",
      "=================================================================================================================\n",
      "                                                    coef    std err          z      P>|z|      [0.025      0.975]\n",
      "-----------------------------------------------------------------------------------------------------------------\n",
      "Intercept                                        -2.0043      0.244     -8.202      0.000      -2.483      -1.525\n",
      "dm_genero[T.Masculino]                           -0.2470      0.372     -0.663      0.507      -0.977       0.483\n",
      "type_news[T.True news]                           -0.1411      0.306     -0.461      0.645      -0.741       0.458\n",
      "dm_genero[T.Masculino]:type_news[T.True news]    -0.2551      0.485     -0.526      0.599      -1.206       0.696\n",
      "=================================================================================================================\n"
     ]
    }
   ],
   "source": [
    "#print(log_reg.summary())\n",
    "print(m1.summary())"
   ]
  },
  {
   "cell_type": "markdown",
   "id": "8ca957ba-d8f3-41cc-8261-13a20796a7ab",
   "metadata": {},
   "source": [
    "# Hypothesis about sharing news on social network and the reason why they were considered as False"
   ]
  },
  {
   "cell_type": "markdown",
   "id": "49f5db0f-fa98-41fa-8af7-4c266781f367",
   "metadata": {},
   "source": [
    "Here we use the answer given by people that think the news was wrong to see if these caracteristics influence  the propension for people to share them. "
   ]
  },
  {
   "cell_type": "code",
   "execution_count": 12,
   "id": "9d280a55-cabc-487f-ad3d-d7ea6037250a",
   "metadata": {
    "tags": []
   },
   "outputs": [],
   "source": [
    "# In case the subject thinks it is a Fake News (regardless of the news)\n",
    "var_justification_wrong = ['tno_aclaracion_desmintiendo',\n",
    "'tno_medio_desconocido',\n",
    "'tno_medio_poco_fiable',\n",
    "'tno_fuentes_desconocidas',\n",
    "'tno_fuentes_no_confiables',\n",
    "'tno_sin_fuentes',\n",
    "'tno_abordaje_no_serio',\n",
    "'tno_no_coherente',\n",
    "'tno_titulo_sensacionalista',\n",
    "'tno_imagen_sensacionalista',\n",
    "'tno_no_concuerda_creencias',\n",
    "'tno_no_alineado_ideologia',\n",
    "'tno_otro']\n",
    "\n",
    "# First creating a score based on the type of news rather than by subject\n",
    "data = df[['fake_news', 'true_news', *var_justification_wrong]]\n",
    "\n",
    "df_fake = df[['fake_news', *var_justification_wrong]]\n",
    "df_fake = df_fake.replace({True: 1, False: 0})\n",
    "df_fake = df_fake.groupby('fake_news').agg('mean')\n",
    "df_fake.columns = ['avg_' + '_'.join(i.split('_')[1:]) for i in df_fake.columns]\n",
    "df_fake['type_news'] = 'Fake'\n",
    "\n",
    "df_true = df[['true_news', *var_justification_wrong]]\n",
    "df_true = df_true.replace({True: 1, False: 0})\n",
    "df_true = df_true.groupby('true_news').agg('mean')\n",
    "df_true.columns = ['avg_' + '_'.join(i.split('_')[1:]) for i in df_true.columns]\n",
    "df_true['type_news'] = 'True'\n",
    "\n",
    "df_avg_justification_wrong = df_fake\n",
    "df_avg_justification_wrong = df_avg_justification_wrong.append(df_true)\n",
    "df_avg_justification_wrong = df_avg_justification_wrong.reset_index().rename(columns={'index': 'news_title'})\n",
    "\n",
    "value_avg_justification = df_avg_justification_wrong.columns[1:-1].values"
   ]
  },
  {
   "cell_type": "code",
   "execution_count": 13,
   "id": "b55dfb3a-dd77-4942-ade3-12cc4a6a0038",
   "metadata": {},
   "outputs": [
    {
     "data": {
      "image/png": "[encoded data removed]",
      "text/plain": [
       "<Figure size 1080x576 with 1 Axes>"
      ]
     },
     "metadata": {},
     "output_type": "display_data"
    }
   ],
   "source": [
    "df_to_plot = df_avg_justification_wrong.melt(id_vars=['news_title', 'type_news'])\n",
    "plt.figure(figsize=(15,8))\n",
    "ax = sns.boxplot(data=df_to_plot, y='variable', x='value', hue='type_news')"
   ]
  },
  {
   "cell_type": "code",
   "execution_count": 14,
   "id": "6803c173-6ec6-4d93-a113-c425c3dd85f6",
   "metadata": {},
   "outputs": [],
   "source": [
    "melt_true_fake_news = ['faf_publicara_redes', 'taf_publicara_redes'] \n",
    "\n",
    "data = df[['fake_news', 'true_news', 'True news', 'Fake news', *melt_true_fake_news]]\n",
    "data = data.melt(id_vars=['fake_news', 'true_news', *melt_true_fake_news])\n",
    "data = data.rename(columns={'variable': 'type_news', 'value': 'answer'})\n",
    "# only get the people that had the sharing option for them \n",
    "data = data[(((data['type_news'] == 'True news') & (data['answer'] == 'Right')) | ((data['type_news'] == 'Fake news') & (data['answer'] == 'Wrong')))]\n",
    "data.drop(columns = ['type_news', 'answer'], inplace=True)\n",
    "\n",
    "\n",
    "df_fake_title = data.drop(columns=['true_news']).melt(id_vars=[*melt_true_fake_news])#.drop(columns=['variable'])\n",
    "df_fake_title = df_fake_title.rename(columns={'value': 'news_title', 'faf_publicara_redes': 'shared_network'})\n",
    "#df_fake_title = df_fake_title.merge(df_avg_justification_wrong, on='news_title')\n",
    "df_fake_title.drop(columns=['taf_publicara_redes'], inplace=True)\n",
    "\n",
    "df_true_title = data.drop(columns=['fake_news']).melt(id_vars=[*melt_true_fake_news])#.drop(columns=['variable'])\n",
    "df_true_title = df_true_title.rename(columns={'value': 'news_title', 'taf_publicara_redes': 'shared_network'})\n",
    "#df_true_title = df_true_title.merge(df_avg_justification_wrong, on='news_title')\n",
    "df_true_title.drop(columns=['faf_publicara_redes'], inplace=True)\n",
    "\n",
    "data = df_fake_title\n",
    "data = data.append(df_true_title)\n",
    "data = data.merge(df_avg_justification_wrong, on='news_title').drop(columns=['variable'])\n",
    "data.dropna(subset = [\"shared_network\"], inplace=True)"
   ]
  },
  {
   "cell_type": "code",
   "execution_count": 15,
   "id": "022096d5-e9f3-48eb-8a8d-f3b8b98cf4b7",
   "metadata": {},
   "outputs": [],
   "source": [
    "#data_lg = data[['shared_network', 'avg_no_coherente', 'type_news']]\n",
    "\n",
    "X = data.loc[:, data.columns != 'shared_network']\n",
    "\n",
    "#X = prepare_dummies(X, list_cat=X.columns.values)\n",
    "# Add an intercept: disable by default: https://stats.stackexchange.com/questions/203740/logistic-regression-scikit-learn-vs-statsmodels\n",
    "Y = data['shared_network'].astype('int64')\n",
    "X = pd.get_dummies(X, drop_first=True)\n",
    "X = sm.add_constant(X)"
   ]
  },
  {
   "cell_type": "code",
   "execution_count": 21,
   "id": "47c79739-835b-438e-840c-a0f8f0fd31f2",
   "metadata": {},
   "outputs": [
    {
     "name": "stdout",
     "output_type": "stream",
     "text": [
      "Optimization terminated successfully.\n",
      "         Current function value: 0.268503\n",
      "         Iterations 7\n"
     ]
    }
   ],
   "source": [
    "# building the model and fitting the data\n",
    "#log_reg = sm.Logit(Y, X).fit()\n",
    "#formula = 'shared_network ~ ' + '+'.join([col for col in data.columns if col != 'shared_network']) #+ ' + ' + ' * '.join(['avg_imagen_sensacionalista', 'type_news'])\n",
    "formula = 'shared_network ~ ' + ' + '.join(['avg_imagen_sensacionalista', 'type_news'])\n",
    "m1 = smf.logit(formula=formula, data=data).fit()"
   ]
  },
  {
   "cell_type": "code",
   "execution_count": 22,
   "id": "039d0f1f-b9ad-4e02-89b4-dfbfaf7c4e94",
   "metadata": {},
   "outputs": [
    {
     "name": "stdout",
     "output_type": "stream",
     "text": [
      "                           Logit Regression Results                           \n",
      "==============================================================================\n",
      "Dep. Variable:         shared_network   No. Observations:                 1761\n",
      "Model:                          Logit   Df Residuals:                     1758\n",
      "Method:                           MLE   Df Model:                            2\n",
      "Date:                Fri, 11 Jun 2021   Pseudo R-squ.:                0.002302\n",
      "Time:                        11:16:01   Log-Likelihood:                -472.83\n",
      "converged:                       True   LL-Null:                       -473.92\n",
      "Covariance Type:            nonrobust   LLR p-value:                    0.3358\n",
      "==============================================================================================\n",
      "                                 coef    std err          z      P>|z|      [0.025      0.975]\n",
      "----------------------------------------------------------------------------------------------\n",
      "Intercept                     -2.6244      0.180    -14.590      0.000      -2.977      -2.272\n",
      "type_news[T.True]              0.2674      0.182      1.472      0.141      -0.089       0.623\n",
      "avg_imagen_sensacionalista    -0.1729      1.686     -0.103      0.918      -3.477       3.132\n",
      "==============================================================================================\n"
     ]
    }
   ],
   "source": [
    "print(m1.summary())"
   ]
  },
  {
   "cell_type": "markdown",
   "id": "52c62fec-03d7-4718-a702-de4f89420519",
   "metadata": {},
   "source": [
    "# Sources\n",
    "\n",
    "## Packages\n",
    "\n",
    " * [mord](https://github.com/fabianp/mord): Pedregosa, Fabian, Francis Bach, and Alexandre Gramfort. \"On the consistency of ordinal regression methods.\" The Journal of Machine Learning Research 18.1 (2017) JMLR.\n",
    " * [pingouin](https://pingouin-stats.org/): Vallat, R. (2018). Pingouin: statistics in Python. Journal of Open Source Software, 3(31), 1026, https://doi.org/10.21105/joss.01026\n",
    " * statsmodels: [https://www.statsmodels.org/stable/index.html#citation](https://www.statsmodels.org/stable/index.html#citation)\n",
    "    > @inproceedings{seabold2010statsmodels,title={statsmodels: Econometric and statistical modeling with python}, author={Seabold, Skipper and Perktold, Josef}, booktitle={9th Python in Science Conference},year={2010},}\n",
    " * [scipy](https://www.scipy.org/citing.html): Pauli Virtanen, Ralf Gommers, Travis E. Oliphant, Matt Haberland, Tyler Reddy, David Cournapeau, Evgeni Burovski, Pearu Peterson, Warren Weckesser, Jonathan Bright, Stéfan J. van der Walt, Matthew Brett, Joshua Wilson, K. Jarrod Millman, Nikolay Mayorov, Andrew R. J. Nelson, Eric Jones, Robert Kern, Eric Larson, CJ Carey, İlhan Polat, Yu Feng, Eric W. Moore, Jake VanderPlas, Denis Laxalde, Josef Perktold, Robert Cimrman, Ian Henriksen, E.A. Quintero, Charles R Harris, Anne M. Archibald, Antônio H. Ribeiro, Fabian Pedregosa, Paul van Mulbregt, and SciPy 1.0 Contributors. (2020) SciPy 1.0: Fundamental Algorithms for Scientific Computing in Python. Nature Methods, 17(3), 261-272.\n",
    " * [scikit-learn](https://scikit-learn.org/stable/): Fabian Pedregosa, Gaël Varoquaux, Alexandre Gramfort, Vincent Michel, Bertrand Thirion, Olivier Grisel, Mathieu Blondel, Peter Prettenhofer, Ron Weiss, Vincent Dubourg, Jake Vanderplas, Alexandre Passos, David Cournapeau, Matthieu Brucher, Matthieu Perrot, Édouard Duchesnay. Scikit-learn: Machine Learning in Python, Journal of Machine Learning Research, 12, 2825-2830 (2011) (publisher link)\n",
    "\n",
    "## Articles\n",
    "\n",
    "*   Bürkner, P.-C., & Vuorre, M. (2019). Ordinal Regression Models in Psychology: A Tutorial. Advances in Methods and Practices in Psychological Science, 77–101. https://doi.org/10.1177/2515245918823199\n",
    "\n",
    "* Midi, H., Sarkar, S. K., & Rana, S. (2010). Collinearity diagnostics of binary logistic regression model. Journal of Interdisciplinary Mathematics, 13(3), 253–267. doi:10.1080/09720502.2010.10700699 "
   ]
  }
 ],
 "metadata": {
  "kernelspec": {
   "display_name": "Python 3",
   "language": "python",
   "name": "python3"
  },
  "language_info": {
   "codemirror_mode": {
    "name": "ipython",
    "version": 3
   },
   "file_extension": ".py",
   "mimetype": "text/x-python",
   "name": "python",
   "nbconvert_exporter": "python",
   "pygments_lexer": "ipython3",
   "version": "3.8.10"
  },
  "toc-autonumbering": true,
  "toc-showtags": true
 },
 "nbformat": 4,
 "nbformat_minor": 5
}
